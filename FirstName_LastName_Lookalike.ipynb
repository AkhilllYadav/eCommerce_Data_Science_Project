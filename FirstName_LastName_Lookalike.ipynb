{
  "nbformat": 4,
  "nbformat_minor": 0,
  "metadata": {
    "colab": {
      "provenance": []
    },
    "kernelspec": {
      "name": "python3",
      "display_name": "Python 3"
    },
    "language_info": {
      "name": "python"
    }
  },
  "cells": [
    {
      "cell_type": "code",
      "source": [
        "# Import necessary libraries\n",
        "import pandas as pd\n",
        "from sklearn.metrics.pairwise import cosine_similarity\n",
        "from sklearn.preprocessing import StandardScaler\n",
        "import csv"
      ],
      "metadata": {
        "id": "Eo0SmBASPfYA"
      },
      "execution_count": 31,
      "outputs": []
    },
    {
      "cell_type": "code",
      "source": [
        "# Load datasets\n",
        "customers = pd.read_csv(\"/content/Customers.csv\")\n",
        "transactions = pd.read_csv(\"/content/Transactions.csv\")"
      ],
      "metadata": {
        "id": "IAemThQTPf6J"
      },
      "execution_count": 33,
      "outputs": []
    },
    {
      "cell_type": "code",
      "source": [
        "# Merge customer and transaction data\n",
        "customer_transactions = pd.merge(customers, transactions, on='CustomerID')"
      ],
      "metadata": {
        "id": "4beW-4VgPip0"
      },
      "execution_count": 34,
      "outputs": []
    },
    {
      "cell_type": "code",
      "source": [
        "# Create customer profiles\n",
        "customer_profile = customer_transactions.groupby('CustomerID').agg({\n",
        "    'TotalValue': 'sum',  # Total spending\n",
        "    'TransactionID': 'count',  # Number of transactions\n",
        "    'ProductID': lambda x: x.mode()[0]  # Favorite product category\n",
        "}).reset_index()"
      ],
      "metadata": {
        "id": "p9OWOB34PsDW"
      },
      "execution_count": 35,
      "outputs": []
    },
    {
      "cell_type": "code",
      "source": [
        "# Normalize features for similarity calculation\n",
        "scaler = StandardScaler()\n",
        "customer_profile_scaled = scaler.fit_transform(customer_profile[['TotalValue', 'TransactionID']])"
      ],
      "metadata": {
        "id": "BadVBDMDPuR7"
      },
      "execution_count": 36,
      "outputs": []
    },
    {
      "cell_type": "code",
      "source": [
        "# Calculate similarity matrix\n",
        "similarity_matrix = cosine_similarity(customer_profile_scaled)"
      ],
      "metadata": {
        "id": "QtTtvmVpPwJ-"
      },
      "execution_count": 37,
      "outputs": []
    },
    {
      "cell_type": "code",
      "source": [
        "# Get top 3 lookalikes for the first 20 customers\n",
        "lookalike_map = {}\n",
        "for i in range(20):\n",
        "    customer_id = customer_profile.iloc[i]['CustomerID']\n",
        "    similarities = similarity_matrix[i]\n",
        "    top_3_indices = similarities.argsort()[-4:-1][::-1]  # Exclude self\n",
        "    top_3_customers = customer_profile.iloc[top_3_indices]['CustomerID'].tolist()\n",
        "    top_3_scores = similarities[top_3_indices].tolist()\n",
        "    lookalike_map[customer_id] = list(zip(top_3_customers, top_3_scores))"
      ],
      "metadata": {
        "id": "VHfSnJAKPyuh"
      },
      "execution_count": 38,
      "outputs": []
    },
    {
      "cell_type": "code",
      "source": [
        "# Save to CSV\n",
        "with open('Lookalike.csv', 'w', newline='') as file:\n",
        "    writer = csv.writer(file)\n",
        "    writer.writerow(['CustomerID', 'LookalikeID', 'SimilarityScore'])\n",
        "    for cust_id, lookalikes in lookalike_map.items():\n",
        "        for lookalike_id, score in lookalikes:\n",
        "            writer.writerow([cust_id, lookalike_id, score])\n",
        "\n",
        "print(\"Lookalike model results saved to 'Lookalike.csv'.\")"
      ],
      "metadata": {
        "colab": {
          "base_uri": "https://localhost:8080/"
        },
        "id": "S8sBWoz2P1R5",
        "outputId": "2c1b56f1-611b-4118-c856-a60779168a02"
      },
      "execution_count": 39,
      "outputs": [
        {
          "output_type": "stream",
          "name": "stdout",
          "text": [
            "Lookalike model results saved to 'Lookalike.csv'.\n"
          ]
        }
      ]
    }
  ]
}
