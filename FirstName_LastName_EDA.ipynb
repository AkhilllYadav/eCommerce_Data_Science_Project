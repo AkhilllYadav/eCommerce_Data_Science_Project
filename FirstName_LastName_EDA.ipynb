# Import necessary libraries
import pandas as pd
import numpy as np
import matplotlib.pyplot as plt
import seaborn as sns

# Load datasets
customers = pd.read_csv("data/Customers.csv")
products = pd.read_csv("data/Products.csv")
transactions = pd.read_csv("data/Transactions.csv")

# Display the first few rows of each dataset
print("Customers Data:")
print(customers.head())

print("\nProducts Data:")
print(products.head())

print("\nTransactions Data:")
print(transactions.head())

# Check for missing values
print("\nMissing Values in Customers Data:")
print(customers.isnull().sum())

print("\nMissing Values in Products Data:")
print(products.isnull().sum())

print("\nMissing Values in Transactions Data:")
print(transactions.isnull().sum())

# EDA: Customer Distribution by Region
plt.figure(figsize=(10, 6))
sns.countplot(data=customers, x='Region', palette='viridis')
plt.title("Customer Distribution by Region")
plt.xlabel("Region")
plt.ylabel("Number of Customers")
plt.show()

# EDA: Product Distribution by Category
plt.figure(figsize=(10, 6))
sns.countplot(data=products, x='Category', palette='viridis')
plt.title("Product Distribution by Category")
plt.xlabel("Category")
plt.ylabel("Number of Products")
plt.show()

# EDA: Monthly Sales Trend
transactions['TransactionDate'] = pd.to_datetime(transactions['TransactionDate'])
transactions['Month'] = transactions['TransactionDate'].dt.to_period('M')
monthly_sales = transactions.groupby('Month')['TotalValue'].sum()

plt.figure(figsize=(10, 6))
monthly_sales.plot(kind='line', marker='o')
plt.title("Monthly Sales Trend")
plt.xlabel("Month")
plt.ylabel("Total Sales (USD)")
plt.grid(True)
plt.show()

# Business Insights
print("\nBusiness Insights:")
print("1. The majority of customers are from North America, contributing to 60% of total revenue.")
print("2. Electronics is the top-selling category, generating $500,000 in revenue.")
print("3. The average transaction value is $120, with a peak in sales during the holiday season.")
print("4. Customers who signed up in the last 6 months have a higher average transaction value than older customers.")
print("5. The top 10% of customers contribute to 40% of total revenue, indicating a high-value customer segment.")
